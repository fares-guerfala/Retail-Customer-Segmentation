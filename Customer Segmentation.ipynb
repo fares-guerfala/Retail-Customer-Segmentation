{
 "cells": [
  {
   "cell_type": "code",
   "execution_count": null,
   "id": "c813080e",
   "metadata": {},
   "outputs": [],
   "source": [
    "import pandas as pd\n",
    "import numpy as np\n",
    "from datetime import datetime\n",
    "\n",
    "import seaborn as sns\n",
    "import matplotlib.pyplot as plt\n",
    "\n",
    "from sklearn.preprocessing import StandardScaler\n",
    "from sklearn.decomposition import PCA\n",
    "from sklearn.metrics import silhouette_score \n",
    "from sklearn.cluster import KMeans\n",
    "\n",
    "%matplotlib inline"
   ]
  },
  {
   "cell_type": "code",
   "execution_count": null,
   "id": "b0299fe2",
   "metadata": {},
   "outputs": [],
   "source": [
    "## Reading the data\n",
    "df = pd.read_csv('customer_segmentation.csv', sep = '\\t')\n",
    "\n",
    "## Renaming columns\n",
    "df.columns = ['customer_id','year_birth', 'education','marital_status','income', 'kid_home','teen_home','dt_customer','recency', 'mnt_wines', 'mnt_fruits','mnt_meat', 'mnt_fish','mtn_sweet','mnt_gold','num_deals_purchases','num_web_purchases','num_catalog_purchases','num_store_purchases','num_web_visits_month','accepted_cpm3','accepted_cpm4', 'accepted_cpm5', 'accepted_cpm1', 'accepted_cpm2', 'conplain','z_cost_contact', 'z_revenue', 'response']\n",
    "\n",
    "## Basic info of the dataset\n",
    "display(df.head(10))\n",
    "display(df.shape)"
   ]
  },
  {
   "cell_type": "markdown",
   "id": "53b0e559",
   "metadata": {},
   "source": [
    "## Cleaning Data + Feature Engineering"
   ]
  },
  {
   "cell_type": "code",
   "execution_count": null,
   "id": "6308dea0",
   "metadata": {},
   "outputs": [],
   "source": [
    "## Fill null values with the mean\n",
    "display(df.isnull().sum())\n",
    "\n",
    "df = df.fillna(df['income'].mean())\n",
    "\n",
    "assert (df.isnull().sum().sum() == 0)"
   ]
  },
  {
   "cell_type": "code",
   "execution_count": null,
   "id": "0f9db42e",
   "metadata": {},
   "outputs": [],
   "source": [
    "# Feature engineering: Creating new, useful features\n",
    "\n",
    "# Create a feature with the total spent for the client\n",
    "df['total_spent'] = df['mnt_wines']  + df['mnt_fruits'] + df['mnt_meat'] + df['mnt_fish'] + df['mtn_sweet'] + df['mnt_gold']\n",
    "\n",
    "# Create a feature with the % of money spent on essential item (food-related) \n",
    "df['pct_essentials'] = (df['mnt_fruits'] + df['mnt_meat'] + df['mnt_fish'] + df['mtn_sweet'])/df['total_spent']\n",
    "\n",
    "# Create a feature with the number of purchases for each client\n",
    "df['num_purchases'] = df['num_web_purchases']+df['num_catalog_purchases'] + df['num_store_purchases']+df['num_web_visits_month']\n",
    "\n",
    "# Create a feature with the number of children\n",
    "df['num_children'] = df['kid_home'] + df['teen_home']\n",
    "\n",
    "# Create a feature with the percentage of purchases made with a discount\n",
    "df['pct_purchases_with_discount'] = df['num_deals_purchases'] / df['num_purchases']\n",
    "df['pct_purchases_with_discount'].fillna(0, inplace=True)\n",
    "\n",
    "# Create a feature with the age of the client, and another with the number of days since he's enrolled with the company\n",
    "df['dt_customer'] = pd.to_datetime(df['dt_customer'])\n",
    "\n",
    "df['days_since_enrollment'] = ((datetime(2015,1,1) - df['dt_customer']).dt.days)\n",
    "\n",
    "df['age'] =  2015 - df['year_birth']"
   ]
  },
  {
   "cell_type": "code",
   "execution_count": null,
   "id": "68bacc19",
   "metadata": {},
   "outputs": [],
   "source": [
    "# Group some categories that have a similar meaning \n",
    "df['relationship'] = df['marital_status'].replace({'Married':1,'Together':1,\n",
    "                            'Single':0, 'Divorced':0, 'Widow':0, 'Alone':0, 'Absurd':0,'YOLO':0})\n",
    "\n",
    "df[\"education\"] = df[\"education\"].replace({'Basic':'Undergraduate', '2n Cycle':'Undergraduate', \n",
    "                                           'Graduation':'Graduated', 'Master':'Postgraduate', 'PhD':'Postgraduate'})"
   ]
  },
  {
   "cell_type": "code",
   "execution_count": null,
   "id": "c21c8295",
   "metadata": {},
   "outputs": [],
   "source": [
    "## Removing outliers\n",
    "df = df[(df['age'] < 90) & (df['income'] < 200000)].reset_index(drop = True)\n",
    "\n",
    "print(\"The new dataset have {} rows.\".format(df.shape[0]))"
   ]
  },
  {
   "cell_type": "code",
   "execution_count": null,
   "id": "7b752508",
   "metadata": {},
   "outputs": [],
   "source": [
    "## Since there are just 2 values with 0 purchases and both of them with a low total spent, we'll replace the 0's with 1's.\n",
    "df.loc[(df['num_purchases'] == 0,'num_purchases')]=1"
   ]
  },
  {
   "cell_type": "code",
   "execution_count": null,
   "id": "808b2be5",
   "metadata": {},
   "outputs": [],
   "source": [
    "## Let's check the relationship between the \"offers accepted\", and the \"percentual of purchases with discount\"\n",
    "df['accepted_sum'] = df['accepted_cpm3']+df['accepted_cpm4']+ df['accepted_cpm5'] + df['accepted_cpm1'] +df['accepted_cpm2']\n",
    "plt.figure(figsize = (12,8))\n",
    "plt.title('Percentual of purchases with discount vs number of offers accepted', fontweight = 'bold')\n",
    "sns.boxplot(data = df, x = 'accepted_sum', y = 'pct_purchases_with_discount')\n",
    "plt.xlabel('Offers Accepted')\n",
    "plt.ylabel('Percentual of Purchases with Discount');"
   ]
  },
  {
   "cell_type": "code",
   "execution_count": null,
   "id": "7a7e88e3",
   "metadata": {},
   "outputs": [],
   "source": [
    "### Droping columns: Since we are going to use perform clusterization ahead, it's important that we only keep the \n",
    "### most important features, since we don't want the clusters to be created based on attributes that \n",
    "### are not that important to us\n",
    "\n",
    "\n",
    "\n",
    "df = df.drop(['num_web_visits_month','recency', 'conplain', 'response', 'customer_id','dt_customer',\n",
    "              'year_birth','kid_home','teen_home','mnt_wines', 'mnt_fruits','mnt_meat', 'mnt_fish', \n",
    "              'mtn_sweet', 'mnt_gold', 'num_web_purchases', 'num_catalog_purchases', 'num_store_purchases',\n",
    "              'z_cost_contact','z_revenue', 'accepted_cpm3','accepted_cpm4', 'accepted_cpm5', 'accepted_cpm1',\n",
    "              'accepted_cpm2', 'marital_status', 'accepted_sum'], axis = 1)"
   ]
  },
  {
   "cell_type": "code",
   "execution_count": null,
   "id": "0cccfe79",
   "metadata": {},
   "outputs": [],
   "source": [
    "## Purchase behaviour vs Education\n",
    "plt.figure(figsize = (8,5))\n",
    "plt.title(\"Education vs Income\", fontweight = 'bold', fontsize = 12)\n",
    "sns.boxplot(y = df['income'] , x = df['education'], linewidth = 2)\n",
    "plt.xlabel(\"\")\n",
    "plt.show()\n",
    "\n",
    "plt.figure(figsize = (8,5))\n",
    "plt.title(\"Education vs Total Spent\", fontweight = 'bold', fontsize = 12)\n",
    "sns.boxplot(y = df['total_spent'] , x = df['education'], linewidth = 2)\n",
    "plt.xlabel(\"\")\n",
    "plt.show()\n",
    "\n",
    "plt.figure(figsize = (8,5))\n",
    "plt.title(\"Education vs Number of Purchases\", fontweight = 'bold', fontsize = 12)\n",
    "sns.boxplot(y = df['num_purchases'] , x = df['education'], linewidth = 2)\n",
    "plt.xlabel(\"\")\n",
    "plt.show()\n"
   ]
  },
  {
   "cell_type": "code",
   "execution_count": null,
   "id": "206cd766",
   "metadata": {},
   "outputs": [],
   "source": [
    "df[\"education\"] = df[\"education\"].replace({'Graduated':'Postgraduate'})\n",
    "df['education'] = df['education'].replace({\"Postgraduate\": 1})\n",
    "df['education'] = df['education'].replace({\"Undergraduate\": 0})\n",
    "df.rename(columns={'education': 'high_education'}, inplace = True)"
   ]
  },
  {
   "cell_type": "markdown",
   "id": "abf8d5d4",
   "metadata": {},
   "source": [
    "## Exploratory Data Analysis (EDA)"
   ]
  },
  {
   "cell_type": "code",
   "execution_count": null,
   "id": "3cbb5aa2",
   "metadata": {},
   "outputs": [],
   "source": [
    "# Some descriptive statistics\n",
    "df.describe()"
   ]
  },
  {
   "cell_type": "code",
   "execution_count": null,
   "id": "f85af56e",
   "metadata": {},
   "outputs": [],
   "source": [
    "## We'll create an auxiliar column, to help us with the visualization. It will be deleted afterwards.\n",
    "df['age_group'] = df['age']//10*10\n",
    "\n",
    "cat_columns = ['high_education','num_children', 'relationship', 'age_group']\n",
    "num_columns = ['income', 'num_deals_purchases','total_spent','num_purchases', \n",
    "       'pct_purchases_with_discount', 'days_since_enrollment', 'pct_essentials']"
   ]
  },
  {
   "cell_type": "code",
   "execution_count": null,
   "id": "e1310763",
   "metadata": {},
   "outputs": [],
   "source": [
    "'''Categorical distributions (even though num_children and age_group are numerical variables,\n",
    "for practical effects it makes a lot of sense to make their visualization as categorical)\n",
    "'''\n",
    "\n",
    "for cat in cat_columns:\n",
    "    plt.figure(figsize = (8,4))\n",
    "    plt.title(str.upper(cat), fontweight = 'bold')\n",
    "    aux = df.groupby(cat).size().reset_index()#.rename({'pct_essentials':'count'}, axis = 1)\n",
    "    ax = sns.barplot(x=cat, data=aux, y = 0, linewidth=2, edgecolor=\".2\").set(ylabel=\"Count\", xlabel = None)\n",
    "    \n",
    "    plt.show()"
   ]
  },
  {
   "cell_type": "code",
   "execution_count": null,
   "id": "ce570a75",
   "metadata": {},
   "outputs": [],
   "source": [
    "## Distribution of numerical variable\n",
    "\n",
    "for num in num_columns:\n",
    "    plt.figure(figsize = (8,5))\n",
    "    plt.title(str.upper(num), fontweight = 'bold')\n",
    "    ax = sns.histplot(x=num, data=df)\n",
    "    ax.set_xlabel(\" \")\n",
    "    plt.show()"
   ]
  },
  {
   "cell_type": "code",
   "execution_count": null,
   "id": "e2fc6562",
   "metadata": {},
   "outputs": [],
   "source": [
    "## Correlation Matrix\n",
    "corr= df.corr()\n",
    "\n",
    "# Getting the Upper Triangle of the co-relation matrix\n",
    "matrix = np.triu(corr)\n",
    "\n",
    "fig = plt.figure(figsize=(12,8))\n",
    "plt.title('Correlation between features', fontsize = 16, fontweight = 'bold')\n",
    "sns.heatmap(round(df.corr(),3), annot=True, cmap=\"RdBu\", mask = matrix);"
   ]
  },
  {
   "cell_type": "code",
   "execution_count": null,
   "id": "276e916f",
   "metadata": {},
   "outputs": [],
   "source": [
    "plt.figure(figsize = (10,6))\n",
    "plt.title(\"Total Money Spent vs Number of Children\", fontweight = 'bold')\n",
    "sns.boxplot(data = df, y = 'total_spent', x = 'num_children', linewidth = 2)# interessante\n",
    "plt.show()\n",
    "\n",
    "plt.figure(figsize = (10,6))\n",
    "plt.title(\"% of purchases with discount vs Number of Children\", fontweight = 'bold')\n",
    "sns.boxplot(data = df, y = 'pct_purchases_with_discount', x = 'num_children', linewidth = 2)\n",
    "plt.show()\n",
    "\n",
    "plt.figure(figsize = (10,6))\n",
    "plt.title(\"% of Money Spent on essentials vs Numbers of children\", fontweight = 'bold')\n",
    "sns.boxplot(data = df, y = 'pct_essentials', x = 'num_children', linewidth = 2) ### esquisito\n",
    "plt.show()\n",
    "\n",
    "\n",
    "plt.figure(figsize = (10,6))\n",
    "plt.title(\"% of purchases with discount vs Age Group\", fontweight = 'bold')\n",
    "sns.boxplot(data = df, y = 'pct_purchases_with_discount', x = 'age_group', linewidth = 2)\n",
    "plt.show()\n",
    "\n",
    "plt.figure(figsize = (10,6))\n",
    "plt.title(\"Income vs Age Group\", fontweight = 'bold')\n",
    "sns.boxplot(data = df, y = 'income', x = 'age_group', linewidth = 2)\n",
    "plt.show()\n",
    "\n",
    "\n",
    "plt.figure(figsize = (10,6))\n",
    "plt.title(\"Total Spent vs Age Group\", fontweight = 'bold')\n",
    "sns.boxplot(data = df, y = 'total_spent', x = 'age_group', linewidth = 2)\n",
    "plt.show()\n",
    "\n",
    "plt.figure(figsize = (10,6))\n",
    "plt.title(\"% of Essential items vs Age\", fontweight = 'bold')\n",
    "sns.boxplot(data = df, y = 'pct_essentials', x = 'age_group', linewidth = 2)# interessante\n",
    "plt.show()\n",
    "\n",
    "plt.figure(figsize = (10,6))\n",
    "plt.title(\"% of Essential items vs Education\", fontweight = 'bold')\n",
    "sns.boxplot(data = df, y = 'pct_essentials', x = 'high_education', linewidth = 2)# interessante\n",
    "plt.show()\n",
    "\n",
    "plt.figure(figsize = (10,6))\n",
    "plt.title(\"Income vs Number of Purchases\", fontweight = 'bold')\n",
    "sns.scatterplot(data = df, x = 'income', y = 'num_purchases', color = 'green')\n",
    "plt.show()\n",
    "\n",
    "plt.figure(figsize = (10,6))\n",
    "plt.title(\"Income vs Total Money Spent\", fontweight = 'bold')\n",
    "sns.scatterplot(data = df, x = 'income', y = 'total_spent', color = 'darkred')\n",
    "plt.show()\n",
    "\n",
    "plt.figure(figsize = (10,6))\n",
    "plt.title(\"Income vs % of purchases with discount\", fontweight = 'bold')\n",
    "sns.scatterplot(data = df, x = 'income', y = 'pct_purchases_with_discount')\n",
    "plt.show()\n",
    "\n",
    "\n",
    "df = df.drop(['age_group', 'days_since_enrollment'], axis = 1)"
   ]
  },
  {
   "cell_type": "markdown",
   "id": "08fb7bb4",
   "metadata": {},
   "source": [
    "## Clustering"
   ]
  },
  {
   "cell_type": "markdown",
   "id": "dd8b2ff0",
   "metadata": {},
   "source": [
    "### Standard Scaler\n"
   ]
  },
  {
   "cell_type": "code",
   "execution_count": null,
   "id": "02036b7d",
   "metadata": {},
   "outputs": [],
   "source": [
    "### Standardization\n",
    "sc = StandardScaler()\n",
    "df_scaled = pd.DataFrame(sc.fit_transform(df), columns = df.columns)\n",
    "display(df_scaled[:5].T)"
   ]
  },
  {
   "cell_type": "markdown",
   "id": "0d3aac92",
   "metadata": {},
   "source": [
    "### Principal Components Analysis (PCA)\n"
   ]
  },
  {
   "cell_type": "code",
   "execution_count": null,
   "id": "e93e655f",
   "metadata": {},
   "outputs": [],
   "source": [
    "## Determining the number of principal components\n",
    "\n",
    "variance_ratio = {}\n",
    "for i in range(1, len(df_scaled.columns)+1):\n",
    "    pca = PCA(n_components=i)\n",
    "    pca.fit(df_scaled)\n",
    "    variance_ratio[f'n_{i}'] = pca.explained_variance_ratio_.sum()*100\n",
    "    \n",
    "plt.figure(figsize = (10, 5))\n",
    "plt.plot(variance_ratio.keys(), variance_ratio.values(), color = 'darkred')\n",
    "plt.axhline(70, color = 'gray', ls = '--', lw = 1)\n",
    "plt.title(\"Variance Ratio (%) vs Number of Principal Components\", fontsize = 14, fontweight = 'bold')\n",
    "plt.ylabel(\"variance ratio (%)\", fontsize = 12)\n",
    "plt.xlabel(\"number of principal components\", fontsize = 12)\n",
    "plt.ylim([0, 120])\n",
    "plt.show()"
   ]
  },
  {
   "cell_type": "code",
   "execution_count": null,
   "id": "a241132e",
   "metadata": {},
   "outputs": [],
   "source": [
    "## Applying PCA to create a new dataset with 4 Princpal Components.\n",
    "\n",
    "pca = PCA(n_components = 4, random_state = 123)\n",
    "pca.fit(df_scaled)\n",
    "df_pca = pd.DataFrame(pca.transform(df_scaled),\n",
    "                      columns = ([\"PC1\", \"PC2\", \"PC3\", \"PC4\"]))\n",
    "df_pca.head(5)"
   ]
  },
  {
   "cell_type": "markdown",
   "id": "f1633cc8",
   "metadata": {},
   "source": [
    "### K-Means"
   ]
  },
  {
   "cell_type": "code",
   "execution_count": null,
   "id": "6831ed84",
   "metadata": {},
   "outputs": [],
   "source": [
    "## Determining the ideal number of clusters: Elbow method\n",
    "wcss=[]\n",
    "for i in range (1,11):\n",
    "    kmeans=KMeans(n_clusters=i,init='k-means++',random_state=123)\n",
    "    kmeans.fit(df_pca)\n",
    "    wcss.append(kmeans.inertia_)\n",
    "    \n",
    "plt.figure(figsize=(10,6))\n",
    "plt.plot(range(1,11), wcss, marker='o', color = 'tab:orange')\n",
    "plt.title('Elbow Method', fontsize = 14, fontweight = 'bold')\n",
    "plt.xlabel('number of clusters')\n",
    "plt.ylabel('WCSS')\n",
    "plt.show()"
   ]
  },
  {
   "cell_type": "code",
   "execution_count": null,
   "id": "244648d7",
   "metadata": {},
   "outputs": [],
   "source": [
    "silhouette_scores = []\n",
    "\n",
    "for i in range(2,10):\n",
    "    m1 = KMeans(n_clusters=i, random_state=123)\n",
    "    c = m1.fit_predict(df_pca)\n",
    "    silhouette_scores.append(silhouette_score(df_pca, m1.fit_predict(df_pca)))\n",
    "\n",
    "plt.figure(figsize = (8,5))\n",
    "plt.bar(range(2,10), silhouette_scores, color = 'darkred')\n",
    "plt.title(\"Silhouette Scores vs Number of Clusters\", fontsize = 14, fontweight = 'bold')\n",
    "plt.xlabel('Number of clusters', fontsize = 14) \n",
    "plt.ylabel('Silhouette Scores', fontsize = 14)\n",
    "plt.ylim(0,0.35)\n",
    "for a, b in enumerate(silhouette_scores):\n",
    "    plt.text(a + 1.7, b + 0.005, str(round(b,3)), color='black', fontweight='bold')\n",
    "plt.show()"
   ]
  },
  {
   "cell_type": "code",
   "execution_count": null,
   "id": "0e563e8d",
   "metadata": {},
   "outputs": [],
   "source": [
    "kmeans = KMeans(n_clusters=3, random_state=123).fit(df_pca)\n",
    "pred = kmeans.predict(df_pca)\n",
    "df['cluster'] = pred + 1\n",
    "df.head()"
   ]
  },
  {
   "cell_type": "markdown",
   "id": "5e127a3d",
   "metadata": {},
   "source": [
    "### Analyzing the clusters"
   ]
  },
  {
   "cell_type": "code",
   "execution_count": null,
   "id": "171e201d",
   "metadata": {},
   "outputs": [],
   "source": [
    "aux = df.cluster.value_counts()/len(df.count())\n",
    "plt.title('Number of Customers per Cluster', fontweight = 'bold')\n",
    "aux = df.groupby('cluster').size().reset_index()#.rename({'pct_essentials':'count'}, axis = 1)\n",
    "ax = sns.barplot(x='cluster', data=aux, y = 0, linewidth=2, edgecolor=\".2\",  palette = 'Set1').set(ylabel=\"Count\", xlabel = None)"
   ]
  },
  {
   "cell_type": "code",
   "execution_count": null,
   "id": "5a63daf1",
   "metadata": {},
   "outputs": [],
   "source": [
    "# Creating an auxiliar dataset to help the evaluation\n",
    "clusters_evaluation = df.groupby('cluster').mean().T\n",
    "clusters_evaluation['mean_dataset'] = df.mean().T\n",
    "clusters_evaluation"
   ]
  },
  {
   "cell_type": "code",
   "execution_count": null,
   "id": "1bb4edde",
   "metadata": {},
   "outputs": [],
   "source": [
    "plt.figure(figsize = (8,8))\n",
    "clusters_evaluation.drop('mean_dataset', axis = 1).style.background_gradient(cmap='RdYlGn',axis=1)"
   ]
  },
  {
   "cell_type": "code",
   "execution_count": null,
   "id": "535aa408",
   "metadata": {},
   "outputs": [],
   "source": [
    "## Categorical Visualizations\n",
    "\n",
    "cat_columns = ['high_education','num_children', 'relationship']\n",
    "num_columns = ['income','total_spent','num_purchases', \n",
    "       'pct_purchases_with_discount', 'age', 'pct_essentials']\n",
    "\n",
    "for cat in cat_columns:\n",
    "    plt.figure(figsize = (8,5))\n",
    "    plt.title(str.upper(cat), fontweight = 'bold')\n",
    "    df_aux = df.groupby('cluster')[cat].value_counts(normalize=True).mul(100).rename('percent').reset_index()\n",
    "    sns.barplot(data = df_aux, x='cluster',y='percent',hue=cat, palette = 'Paired',linewidth=2, edgecolor=\".2\");\n",
    "    plt.show()    \n"
   ]
  },
  {
   "cell_type": "code",
   "execution_count": null,
   "id": "21edf1d9",
   "metadata": {},
   "outputs": [],
   "source": [
    "## Numerical Variables\n",
    "\n",
    "for num in num_columns:\n",
    "    plt.figure(figsize = (8,5))\n",
    "    plt.title(str.upper(num), fontweight = 'bold')\n",
    "    ax = sns.boxplot(y=num, x = 'cluster', data=df, palette = 'Set1', linewidth = 2)#.set(ylabel=\"Count\", xlabel = None)\n",
    "    plt.show()\n"
   ]
  },
  {
   "cell_type": "code",
   "execution_count": null,
   "id": "a421eb41",
   "metadata": {},
   "outputs": [],
   "source": [
    "plt.figure(figsize = (9,5))\n",
    "plt.title('Percentage of items with discount vs Income', fontweight = 'bold')\n",
    "sns.scatterplot(data = df, x = 'income', y = 'pct_purchases_with_discount', hue = 'cluster', palette = 'Set1')\n",
    "plt.show()\n",
    "\n",
    "plt.figure(figsize = (9,5))\n",
    "plt.title('Percentage of essential items bought vs Income', fontweight = 'bold')\n",
    "sns.scatterplot(data = df, x = 'income', y = 'pct_essentials', hue = 'cluster', palette = 'Set1')\n",
    "plt.show()\n",
    "\n",
    "plt.figure(figsize = (9,5))\n",
    "plt.title('Number of purchases vs Income', fontweight = 'bold')\n",
    "sns.scatterplot(data = df, x = 'income', y = 'num_purchases', hue = 'cluster', palette = 'Set1')\n",
    "plt.show()\n",
    "\n",
    "plt.figure(figsize = (9,5))\n",
    "plt.title('Total Money Spent vs Income', fontweight = 'bold')\n",
    "sns.scatterplot(data = df, x = 'income', y = 'total_spent', hue = 'cluster', palette = 'Set1')\n",
    "plt.show()"
   ]
  },
  {
   "cell_type": "code",
   "execution_count": null,
   "id": "6ebc96da",
   "metadata": {},
   "outputs": [],
   "source": []
  }
 ],
 "metadata": {
  "kernelspec": {
   "display_name": "Python 3 (ipykernel)",
   "language": "python",
   "name": "python3"
  },
  "language_info": {
   "codemirror_mode": {
    "name": "ipython",
    "version": 3
   },
   "file_extension": ".py",
   "mimetype": "text/x-python",
   "name": "python",
   "nbconvert_exporter": "python",
   "pygments_lexer": "ipython3",
   "version": "3.11.4"
  }
 },
 "nbformat": 4,
 "nbformat_minor": 5
}
